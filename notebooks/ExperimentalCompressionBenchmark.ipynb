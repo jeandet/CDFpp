{
 "cells": [
  {
   "cell_type": "code",
   "execution_count": 1,
   "id": "2c38ab6c-ac0a-41ce-bfce-8523dcd4f927",
   "metadata": {},
   "outputs": [
    {
     "data": {
      "text/plain": [
       "'/home/jeandet/Documents/prog/CDFpp/build/pycdfpp/__init__.py'"
      ]
     },
     "execution_count": 1,
     "metadata": {},
     "output_type": "execute_result"
    }
   ],
   "source": [
    "import sys\n",
    "sys.path.insert(0,\"/home/jeandet/Documents/prog/CDFpp/build\")\n",
    "\n",
    "import numpy as np\n",
    "import pycdfpp\n",
    "pycdfpp.__file__"
   ]
  },
  {
   "cell_type": "code",
   "execution_count": 2,
   "id": "34c506ae-c760-4d51-81cd-a550f01522c2",
   "metadata": {},
   "outputs": [
    {
     "data": {
      "text/plain": [
       "<CompressionType.delta_plus_zstd_compression: 48>"
      ]
     },
     "execution_count": 2,
     "metadata": {},
     "output_type": "execute_result"
    }
   ],
   "source": [
    "pycdfpp.CompressionType.delta_plus_zstd_compression"
   ]
  },
  {
   "cell_type": "code",
   "execution_count": 3,
   "id": "8bf8ebb0-8c1f-4c60-9785-ee3a791df455",
   "metadata": {},
   "outputs": [],
   "source": [
    "f=pycdfpp.load(\"/home/jeandet/Downloads/mms1_scm_srvy_l2_scsrvy_20220811_v2.2.0.cdf\")"
   ]
  },
  {
   "cell_type": "code",
   "execution_count": 4,
   "id": "c5d7a049-bc5b-4dbb-bdd2-e5a2b3f0355a",
   "metadata": {},
   "outputs": [
    {
     "data": {
      "text/plain": [
       "True"
      ]
     },
     "execution_count": 4,
     "metadata": {},
     "output_type": "execute_result"
    }
   ],
   "source": [
    "for name,v in f.items():\n",
    "    if v.type in ( pycdfpp.DataType.CDF_TIME_TT2000, pycdfpp.DataType.CDF_INT1, pycdfpp.DataType.CDF_INT2, pycdfpp.DataType.CDF_INT4, pycdfpp.DataType.CDF_INT8):\n",
    "        v.compression = pycdfpp.CompressionType.delta_plus_zstd_compression\n",
    "    if v.type in ( pycdfpp.DataType.CDF_FLOAT, pycdfpp.DataType.CDF_REAL4, pycdfpp.DataType.CDF_DOUBLE, pycdfpp.DataType.CDF_REAL8):\n",
    "        if len(v)>1:\n",
    "            v.compression = pycdfpp.CompressionType.float_zstd_compression\n",
    "\n",
    "pycdfpp.save(f, \"/tmp/test.cdf\")"
   ]
  },
  {
   "cell_type": "code",
   "execution_count": 7,
   "id": "df3e0fc8-07c6-4ac5-ad34-7bdf08577ff0",
   "metadata": {},
   "outputs": [],
   "source": [
    "for input_file in ('mms1_fpi_brst_l2_des-dist_20210701000343_v3.4.0.cdf', \n",
    "                   'mms1_fpi_brst_l2_des-dist_20230602042743_v3.4.0.cdf',\n",
    "                   'solo_l2_rpw-lfr-surv-swf-b_20220221_v02.cdf',\n",
    "                   'tha_l2_scm_20161228_v01.cdf'\n",
    "                  ):\n",
    "    f=pycdfpp.load(f\"/home/jeandet/Downloads/{input_file}\")\n",
    "    for name,v in f.items():\n",
    "        if v.type in ( pycdfpp.DataType.CDF_TIME_TT2000, ):\n",
    "            v.compression = pycdfpp.CompressionType.delta_plus_zstd_compression\n",
    "        if v.type in (pycdfpp.DataType.CDF_INT1, pycdfpp.DataType.CDF_INT2, pycdfpp.DataType.CDF_INT4, pycdfpp.DataType.CDF_INT8):\n",
    "            v.compression = pycdfpp.CompressionType.gzip_compression\n",
    "        if v.type in ( pycdfpp.DataType.CDF_FLOAT, pycdfpp.DataType.CDF_REAL4, pycdfpp.DataType.CDF_DOUBLE, pycdfpp.DataType.CDF_REAL8):\n",
    "            if len(v)>10:\n",
    "                v.compression = pycdfpp.CompressionType.gzip_compression\n",
    "\n",
    "    pycdfpp.save(f, f\"/tmp/{input_file}\")"
   ]
  },
  {
   "cell_type": "code",
   "execution_count": 4,
   "id": "dd8bba2b-7928-4799-bf4f-d10f2cb5fffc",
   "metadata": {},
   "outputs": [
    {
     "name": "stdout",
     "output_type": "stream",
     "text": [
      "1.43 s ± 738 ms per loop (mean ± std. dev. of 7 runs, 1 loop each)\n"
     ]
    }
   ],
   "source": [
    "%timeit pycdfpp.save(f, \"/tmp/test.cdf\")"
   ]
  },
  {
   "cell_type": "code",
   "execution_count": 5,
   "id": "9fa9fad9-200a-4232-81b3-088dfbb06715",
   "metadata": {},
   "outputs": [
    {
     "name": "stdout",
     "output_type": "stream",
     "text": [
      "477 ms ± 10.3 ms per loop (mean ± std. dev. of 7 runs, 1 loop each)\n"
     ]
    }
   ],
   "source": [
    "%timeit pycdfpp.load(\"/tmp/test.cdf\", lazy_load=False)"
   ]
  },
  {
   "cell_type": "code",
   "execution_count": 12,
   "id": "bbfee171-a19c-43c8-958f-9a10eb994e70",
   "metadata": {},
   "outputs": [
    {
     "data": {
      "text/plain": [
       "CDF:\n",
       "  version: 3.9.0\n",
       "  majority: column\n",
       "  compression: None\n",
       "\n",
       "Attributes:\n",
       "  Logical_source_description: \"Solar Orbiter Radio/Plasma Wave, LFR L2 magnetic parameters\"\n",
       "  CALIBRATION_VERSION: [ [ \"20190123171020\", \"V20200428000000\" ] ]\n",
       "  Free_field: \" \"\n",
       "  Rules_of_use: \"Data provided are publicly available. If used in presentations or publications, please acknowledge Solar Orbiter/RPW Investigation (M. Maksimovic, PIs). Please read carefully the caveats attached to the data. For reporting purposes, we request bibliography information for any publication, etc., using these data. Please send information on the use of this data to: M. Maksimovic (PI).\"\n",
       "  Parents: [ [ \"CDF>solo_L1R_rpw-lfr-surv-swf-b-cdag_20220221_V02\", \"CDF>solo_HK_rpw-lfr_20220221_V03\", \"CDF>solo_HK_rpw-pdu_20220221_V03\" ] ]\n",
       "  SOOP_TYPE: \" \"\n",
       "  Dataset_ID: \"SOLO_L2_RPW-LFR-SURV-SWF-B\"\n",
       "  Data_type: \"H0>High Resolution data\"\n",
       "  ACCESS_URL: \"https://rpw.lesia.obspm.fr/roc/data/pub/solo/rpw/data/L2/lfr_wf_b/2022/02/solo_L2_rpw-lfr-surv-swf-b_20220221_V02.cdf\"\n",
       "  PI_affiliation: \"LESIA, Observatoire de Paris-CNRS\"\n",
       "  Mission_group: \"Solar Orbiter\"\n",
       "  HTTP_LINK: \"https://rpw.lesia.obspm.fr\"\n",
       "  Software_name: \"SCMCAL\"\n",
       "  Data_version: \"02\"\n",
       "  SPICE_KERNELS: [ [ \"solo_ANC_soc-pred-mk_V107_20220223_004.tm\", \"solo_ANC_soc-flown-mk_V107_20220223_011.tm\" ] ]\n",
       "  SKELETON_MODS: [ [ \"2017-12-15, J-Y Brochot (CNRS-LPC2E), initial release\", \"V04: Update for solo data definition, X. BONNIN (CNRS-LESIA), April 2019\", \"V05: Update to compliant with SOL-SGS-TN-0009 Issue 2, Rev 4 - X.Bonnin, 09/2019\", \"V06: add B_RTN and MAG_LABEL_RTN variables, J-Y Brochot, 12/2019\", \"V07: March 2020 : Harmonize SAMPLING_RATE zvar and Test_* g.attrs - X.Bonnin (CNRS, LESIA)\", \"V07: Suppress zVars POST_GAP_FLAG, ACQUISITION_TIME, ACQUISITION_TIME_UNITS and ACQUISITION_TIME_LABEL - J-Y Brochot, March 2020\", \"V08: Add gAttr SPICE_KERNELS - J-Y Brochot, April 2020\", \"V09: Complete the zAttr of CALIBRATION_TABLE_INDEX - J-Y Brochot, May 2020\", \"V10: Add zVar L2_QUALITY_BITMASK - J-Y Brochot, Aug 2020\", \"V11: Suppress zVar SYNCHRO_FLAG - J-Y Brochot, Sept 2020\", \"V12: Jan. 2021 : Fix inconsistencies against the ISTP CDF guidelines, X.Bonnin (CNRS-LESIA)\", \"V13: Adjust some zAttr - J-Y Brochot, June 2021\", \"V14: Removes the gAttr Parent_version - J-Y Brochot, Dec 2021\" ] ]\n",
       "  Logical_file_id: \"solo_L2_rpw-lfr-surv-swf-b_20220221_V02\"\n",
       "  Datetime: \"20220221\"\n",
       "  TARGET_REGION: \"Solar Wind\"\n",
       "  Generation_date: \"2022-02-24T12:14:35\"\n",
       "  TARGET_NAME: \"Sun\"\n",
       "  CAL_ENTITY_NAME: [ [ \"RPW LFR team\", \"LPC2E\" ] ]\n",
       "  Source_name: \"SOLO>Solar Orbiter\"\n",
       "  LINK_TEXT: \"RPW Web site at LESIA\"\n",
       "  Generated_by: \"RPW Operations Centre located at LESIA (Meudon, France)\"\n",
       "  APPLICABLE: \"SOL-SGS-TN-0009 (2.4)\"\n",
       "  Validate: \" \"\n",
       "  TARGET_CLASS: \"Star\"\n",
       "  OBS_ID: \" \"\n",
       "  TIME_MIN: \"2459631.563127373810858\"\n",
       "  Pipeline_name: \"RODP>RPW Operation and Data Pipeline\"\n",
       "  Skeleton_version: \"14\"\n",
       "  LEVEL: \"L2>Level 2 data processing\"\n",
       "  CAL_EQUIPMENT: [ [ \"LFR\", \"SCM\" ] ]\n",
       "  File_naming_convention: \"<Source_name>_<LEVEL>_<Descriptor>_<Datetime>_V<Data_version>\"\n",
       "  Acknowledgement: \"The authors are pleased to acknowledge the Solar Orbiter/RPW Investigation (M. Maksimovic, PIs) for access to data.\"\n",
       "  Logical_source: \"solo_L2_rpw-lfr-surv-swf-b\"\n",
       "  Software_version: \"1.1.0\"\n",
       "  Discipline: \"Space Physics>Interplanetary Studies\"\n",
       "  PI_name: \"M.Maksimovic\"\n",
       "  CALIBRATION_TABLE: [ [ \"SOLO_CAL_RCT-LFR-SCM_V20190123171020.cdf\", \"SOLO_CAL_RPW-SCM_SCM-FS-MEB-PFM_V20200428000000.cdf\" ] ]\n",
       "  TEXT: \"This file contains RPW LFR level 2 snapshot waveform of magnetic data in survey mode\"\n",
       "  File_ID: \"c08df4e9-3fc9-443c-b90b-4bae59f9e1db\"\n",
       "  Instrument_type: \"Radio and Plasma Waves (space)\"\n",
       "  SPECTRAL_RANGE_MIN: [ [ [ 0 ] ] ]\n",
       "  Data_product: \"SURV-SWF-B>SURV-SWF-B\"\n",
       "  SPECTRAL_RANGE_MAX: [ [ [ 12288 ] ] ]\n",
       "  ACCESS_FORMAT: \"CDF\"\n",
       "  Project: \"SOLO>Solar Orbiter\"\n",
       "  Provider: \"LES>LESIA\"\n",
       "  LINK_TITLE: \"RPW Web site\"\n",
       "  Pipeline_version: \" \"\n",
       "  Descriptor: \"LFR>Low Frequency Receiver\"\n",
       "  CAL_ENTITY_AFFILIATION: [ [ \"Laboratoire de Physiques des Plasmas (LPP)\", \"CNRS\" ] ]\n",
       "  SKELETON_PARENT: \"SOLO_L2_RPW-LFR-SURV-SWF-B_V14.cdf\"\n",
       "  REFERENCE: \"ROC-PRO-DAT-NTT-00006-LES (1.3)\"\n",
       "  TIME_MAX: \"2459632.062005037907511\"\n",
       "  MODS: [ [ \"2020-09-07 -- V0.12.1 -- First release\", \"2020-10-05 -- V0.13.0 -- Corrects gAttr TIME_MIN and TIME_MAX\", \"2020-12-06 -- V0.14.0 -- Improves the accuracy of the time range where the heaters alter the magnetic measurements (bit1 of L2_QUALITY_BITMASK)\", \"2021-06-24 -- V1.0.0 -- MODS is now used for data release log and SKELETON_MODS for CDF skeleton change log | Improves the calculation of Brtn (the transform matrix is calculated every second) | Corrects CALIBRATION_TABLE_INDEX (which was wrong as soon as a change occurred during the file)\" ] ]\n",
       "  CDAG_PARENT: \"solo_L2_rpw-lfr-surv-swf-b-cdag_20220221_V02.cdf\"\n",
       "\n",
       "Variables:\n",
       "  Epoch: [ 4278 ], [CDF_TIME_TT2000], record vary:True, compression: None\n",
       "  B: [ 4278, 3, 2048 ], [CDF_REAL4], record vary:True, compression: GNU GZIP\n",
       "  B_RTN: [ 4278, 3, 2048 ], [CDF_REAL4], record vary:True, compression: GNU GZIP\n",
       "  QUALITY_FLAG: [ 4278 ], [CDF_UINT1], record vary:True, compression: GNU GZIP\n",
       "  QUALITY_BITMASK: [ 4278 ], [CDF_UINT2], record vary:True, compression: GNU GZIP\n",
       "  L2_QUALITY_BITMASK: [ 4278 ], [CDF_UINT2], record vary:True, compression: GNU GZIP\n",
       "  SAMPLING_RATE: [ 4278 ], [CDF_REAL4], record vary:True, compression: GNU GZIP\n",
       "  MAG_LABEL: [ 1, 3, 2 ], [CDF_CHAR], record vary:False, compression: None\n",
       "  MAG_LABEL_RTN: [ 1, 3, 5 ], [CDF_CHAR], record vary:False, compression: None\n",
       "  SURVEY_MODE: [ 4278 ], [CDF_UINT1], record vary:True, compression: GNU GZIP\n",
       "  CALIBRATION_TABLE_INDEX: [ 4278, 2, 2 ], [CDF_UINT1], record vary:True, compression: GNU GZIP\n"
      ]
     },
     "execution_count": 12,
     "metadata": {},
     "output_type": "execute_result"
    }
   ],
   "source": [
    "pycdfpp.load(\"/home/jeandet/Downloads/solo_l2_rpw-lfr-surv-swf-b_20220221_v02.cdf\")"
   ]
  },
  {
   "cell_type": "code",
   "execution_count": 5,
   "id": "5db7d45b-0d6c-4b97-9e92-ff3fbd403326",
   "metadata": {},
   "outputs": [
    {
     "data": {
      "text/plain": [
       "True"
      ]
     },
     "execution_count": 5,
     "metadata": {},
     "output_type": "execute_result"
    }
   ],
   "source": [
    "for name,v in f.items():\n",
    "    if np.prod(v.shape) > 100:\n",
    "        v.compression = pycdfpp.CompressionType.zstd_compression\n",
    "pycdfpp.save(f, \"/tmp/test_full_zstd.cdf\")"
   ]
  },
  {
   "cell_type": "code",
   "execution_count": 11,
   "id": "975be97f-8737-40c1-b460-354ee4f6cf00",
   "metadata": {},
   "outputs": [
    {
     "data": {
      "text/plain": [
       "6"
      ]
     },
     "execution_count": 11,
     "metadata": {},
     "output_type": "execute_result"
    }
   ],
   "source": [
    "np.prod((1,2,3))"
   ]
  },
  {
   "cell_type": "code",
   "execution_count": 18,
   "id": "05bddba1-ab5b-4728-91bc-08815fdd2b10",
   "metadata": {},
   "outputs": [],
   "source": [
    "f2=pycdfpp.load(\"/tmp/test.cdf\")\n",
    "for name,v in f.items():\n",
    "    if not np.all(v.values == f2[name].values):\n",
    "        if not np.array_equal(v.values, f2[name].values, equal_nan=True):\n",
    "            print(name)\n"
   ]
  },
  {
   "cell_type": "code",
   "execution_count": 12,
   "id": "c7b19d89-a6a1-459a-8755-6e964b7638cb",
   "metadata": {},
   "outputs": [
    {
     "data": {
      "text/plain": [
       "array([[ 0.06627767,  0.10891791,  0.0312961 ],\n",
       "       [ 0.02560943,  0.06024531,  0.0083373 ],\n",
       "       [ 0.02447548, -0.0096865 ,  0.01616823],\n",
       "       ...,\n",
       "       [-0.24406226,  0.07305223,  0.05498237],\n",
       "       [-0.22405699,  0.06590237,  0.06501136],\n",
       "       [-0.20598231,  0.0552755 ,  0.07047489]], dtype=float32)"
      ]
     },
     "execution_count": 12,
     "metadata": {},
     "output_type": "execute_result"
    }
   ],
   "source": [
    "f2[\"mms1_scm_acb_gse_scsrvy_srvy_l2\"].values"
   ]
  },
  {
   "cell_type": "code",
   "execution_count": 13,
   "id": "5b118245-de7a-43da-84f9-49dc6a5f6b7b",
   "metadata": {},
   "outputs": [
    {
     "data": {
      "text/plain": [
       "array([[ 0.06627767,  0.10891791,  0.0312961 ],\n",
       "       [ 0.02560943,  0.06024531,  0.0083373 ],\n",
       "       [ 0.02447548, -0.0096865 ,  0.01616823],\n",
       "       ...,\n",
       "       [-0.24406226,  0.07305223,  0.05498237],\n",
       "       [-0.22405699,  0.06590237,  0.06501136],\n",
       "       [-0.20598231,  0.0552755 ,  0.07047489]], dtype=float32)"
      ]
     },
     "execution_count": 13,
     "metadata": {},
     "output_type": "execute_result"
    }
   ],
   "source": [
    "f[\"mms1_scm_acb_gse_scsrvy_srvy_l2\"].values"
   ]
  },
  {
   "cell_type": "code",
   "execution_count": 17,
   "id": "04e4fe73-82d6-41b3-bcfa-f2c58fdde7cf",
   "metadata": {},
   "outputs": [
    {
     "data": {
      "text/plain": [
       "True"
      ]
     },
     "execution_count": 17,
     "metadata": {},
     "output_type": "execute_result"
    }
   ],
   "source": [
    "np.array_equal(f[\"mms1_scm_acb_gse_scsrvy_srvy_l2\"].values, f2[\"mms1_scm_acb_gse_scsrvy_srvy_l2\"].values, equal_nan=True)"
   ]
  },
  {
   "cell_type": "code",
   "execution_count": 8,
   "id": "7e458971-0870-46ba-8cc9-e2c902d42b9b",
   "metadata": {},
   "outputs": [
    {
     "ename": "AttributeError",
     "evalue": "'pycdfpp._pycdfpp.Variable' object has no attribute 'len'",
     "output_type": "error",
     "traceback": [
      "\u001b[0;31m---------------------------------------------------------------------------\u001b[0m",
      "\u001b[0;31mAttributeError\u001b[0m                            Traceback (most recent call last)",
      "Cell \u001b[0;32mIn[8], line 1\u001b[0m\n\u001b[0;32m----> 1\u001b[0m \u001b[43mf\u001b[49m\u001b[43m[\u001b[49m\u001b[38;5;124;43m\"\u001b[39;49m\u001b[38;5;124;43mtha_scf_gse\u001b[39;49m\u001b[38;5;124;43m\"\u001b[39;49m\u001b[43m]\u001b[49m\u001b[38;5;241;43m.\u001b[39;49m\u001b[43mlen\u001b[49m()\n",
      "\u001b[0;31mAttributeError\u001b[0m: 'pycdfpp._pycdfpp.Variable' object has no attribute 'len'"
     ]
    }
   ],
   "source": [
    "f[\"tha_scf_gse\"].len()"
   ]
  },
  {
   "cell_type": "code",
   "execution_count": 2,
   "id": "eb02067e-3a99-4344-b0f7-889b07915f9c",
   "metadata": {},
   "outputs": [
    {
     "data": {
      "text/plain": [
       "CDF:\n",
       "  version: 3.9.0\n",
       "  majority: row\n",
       "  compression: None\n",
       "\n",
       "Attributes:\n",
       "  attr: \"a cdf text attribute\"\n",
       "  attr_float: [ [ [ 1, 2, 3 ], [ 4, 5, 6 ] ] ]\n",
       "  attr_int: [ [ [ 1, 2, 3 ] ] ]\n",
       "  attr_multi: [ [ [ 1, 2 ], [ 2, 3 ], \"hello\" ] ]\n",
       "  empty: [ [  ] ]\n",
       "  epoch: [ [ [ 1970-01-01T00:00:00.000000000, 1970-06-30T00:00:00.000000000, 1970-12-27T00:00:00.000000000, 1971-06-25T00:00:00.000000000, 1971-12-22T00:00:00.000000000, 1972-06-19T00:00:00.000000000, 1972-12-16T00:00:00.000000000, 1973-06-14T00:00:00.000000000, 1973-12-11T00:00:00.000000000, 1974-06-09T00:00:00.000000000, 1974-12-06T00:00:00.000000000 ] ] ]\n",
       "  epoch16: [ [ [ 1970-01-01T00:00:00.000000000, 1970-06-30T00:00:00.000000000, 1970-12-27T00:00:00.000000000, 1971-06-25T00:00:00.000000000, 1971-12-22T00:00:00.000000000, 1972-06-19T00:00:00.000000000, 1972-12-16T00:00:00.000000000, 1973-06-14T00:00:00.000000000, 1973-12-11T00:00:00.000000000, 1974-06-09T00:00:00.000000000, 1974-12-06T00:00:00.000000000 ] ] ]\n",
       "  tt2000: [ [ [ 1970-01-01T00:00:08.001377999, 1970-06-30T00:00:08.467938000, 1970-12-27T00:00:08.934498000, 1971-06-25T00:00:09.401057999, 1971-12-22T00:00:09.867618000, 1972-06-19T00:00:00.000000000, 1972-12-16T00:00:00.000000000, 1973-06-14T00:00:00.000000000, 1973-12-11T00:00:00.000000000, 1974-06-09T00:00:00.000000000, 1974-12-06T00:00:00.000000000 ] ] ]\n",
       "\n",
       "Variables:\n",
       "  var: [ 101 ], [CDF_DOUBLE], record vary:True, compression: None\n",
       "  epoch: [ 101 ], [CDF_EPOCH], record vary:True, compression: None\n",
       "  bytes: [ 10 ], [CDF_BYTE], record vary:True, compression: None\n",
       "  zeros: [ 2048 ], [CDF_DOUBLE], record vary:True, compression: None\n",
       "  var2d: [ 3, 4 ], [CDF_DOUBLE], record vary:True, compression: None\n",
       "  var3d: [ 4, 3, 2 ], [CDF_DOUBLE], record vary:True, compression: None\n",
       "  var2d_counter: [ 10, 10 ], [CDF_DOUBLE], record vary:True, compression: None\n",
       "  var3d_counter: [ 10, 3, 5 ], [CDF_DOUBLE], record vary:True, compression: None\n",
       "  var5d_counter: [ 6, 5, 4, 3, 2 ], [CDF_DOUBLE], record vary:True, compression: None\n",
       "  var_string_uchar: [ 1, 16 ], [CDF_UCHAR], record vary:False, compression: None\n",
       "  var_string: [ 1, 16 ], [CDF_CHAR], record vary:False, compression: None\n",
       "  var2d_string: [ 1, 2, 18 ], [CDF_CHAR], record vary:False, compression: None\n",
       "  var3d_string: [ 1, 2, 2, 9 ], [CDF_CHAR], record vary:False, compression: None\n",
       "  var4d_string: [ 1, 3, 2, 2, 10 ], [CDF_CHAR], record vary:False, compression: None\n",
       "  empty_var_recvary_string: [ 0, 16 ], [CDF_CHAR], record vary:True, compression: None\n",
       "  var_recvary_string: [ 3, 3 ], [CDF_CHAR], record vary:True, compression: None\n",
       "  epoch16: [ 101 ], [CDF_EPOCH16], record vary:True, compression: None\n",
       "  tt2000: [ 101 ], [CDF_TIME_TT2000], record vary:True, compression: None\n"
      ]
     },
     "execution_count": 2,
     "metadata": {},
     "output_type": "execute_result"
    }
   ],
   "source": [
    "pycdfpp.load(\"../tests/resources/a_cdf.cdf\")"
   ]
  },
  {
   "cell_type": "code",
   "execution_count": null,
   "id": "fc15e872-d13a-44c6-9cd9-1f4de9da2b03",
   "metadata": {},
   "outputs": [],
   "source": []
  }
 ],
 "metadata": {
  "kernelspec": {
   "display_name": "Python 3 (ipykernel)",
   "language": "python",
   "name": "python3"
  },
  "language_info": {
   "codemirror_mode": {
    "name": "ipython",
    "version": 3
   },
   "file_extension": ".py",
   "mimetype": "text/x-python",
   "name": "python",
   "nbconvert_exporter": "python",
   "pygments_lexer": "ipython3",
   "version": "3.12.3"
  }
 },
 "nbformat": 4,
 "nbformat_minor": 5
}
